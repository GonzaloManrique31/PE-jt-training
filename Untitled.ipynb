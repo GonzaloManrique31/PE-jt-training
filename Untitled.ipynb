{
 "cells": [
  {
   "cell_type": "code",
   "execution_count": 1,
   "id": "b0d81190",
   "metadata": {
    "scrolled": true
   },
   "outputs": [
    {
     "name": "stdout",
     "output_type": "stream",
     "text": [
      "Promise { <pending> }\n"
     ]
    }
   ],
   "source": [
    "let promesa = new Promise((resolve, rejected) => {\n",
    "    setTimeout(() => {rejected(new Error(\"Se ha producido un error\"))}, 2000)\n",
    "                       \n",
    "})\n",
    "\n",
    "console.log(promesa)"
   ]
  },
  {
   "cell_type": "code",
   "execution_count": 2,
   "id": "a91b590a",
   "metadata": {},
   "outputs": [
    {
     "data": {
      "text/plain": [
       "Promise { <pending> }"
      ]
     },
     "execution_count": 2,
     "metadata": {},
     "output_type": "execute_result"
    },
    {
     "name": "stdout",
     "output_type": "stream",
     "text": [
      "Falló al resolverse la promesa Error: Se ha producido un error\n",
      "    at Timeout._onTimeout (evalmachine.<anonymous>:2:32)\n",
      "    at listOnTimeout (node:internal/timers:569:17)\n",
      "    at process.processTimers (node:internal/timers:512:7)\n"
     ]
    }
   ],
   "source": [
    "promesa.then((promiseResult)=> {\n",
    "    console.log(\"Se ha resuelto la promesa\")\n",
    "}).catch((error)=>{\n",
    "    console.log(\"Falló al resolverse la promesa\", error)\n",
    "})"
   ]
  },
  {
   "cell_type": "code",
   "execution_count": 4,
   "id": "a005a847",
   "metadata": {},
   "outputs": [],
   "source": [
    "let promesa2 = Promise.resolve(\"Promesa resuelta\");"
   ]
  },
  {
   "cell_type": "code",
   "execution_count": 5,
   "id": "1741585d",
   "metadata": {},
   "outputs": [
    {
     "data": {
      "text/plain": [
       "Promise { <pending> }"
      ]
     },
     "execution_count": 5,
     "metadata": {},
     "output_type": "execute_result"
    },
    {
     "name": "stdout",
     "output_type": "stream",
     "text": [
      "Se ha resuelto la promesa\n"
     ]
    }
   ],
   "source": [
    "promesa2.then((promiseResult)=> {\n",
    "    console.log(\"Se ha resuelto la promesa\")\n",
    "}).catch((error)=>{\n",
    "    console.log(\"Falló al resolverse la promesa\", error)\n",
    "})"
   ]
  },
  {
   "cell_type": "code",
   "execution_count": 8,
   "id": "241e7eb6",
   "metadata": {},
   "outputs": [
    {
     "name": "stderr",
     "output_type": "stream",
     "text": [
      "Error: Promesa rechazada\n",
      "    at evalmachine.<anonymous>:1:31\n",
      "    at Script.runInThisContext (node:vm:129:12)\n",
      "    at Object.runInThisContext (node:vm:307:38)\n",
      "    at run ([eval]:1020:15)\n",
      "    at onRunRequest ([eval]:864:18)\n",
      "    at onMessage ([eval]:828:13)\n",
      "    at process.emit (node:events:513:28)\n",
      "    at emit (node:internal/child_process:937:14)\n",
      "    at process.processTicksAndRejections (node:internal/process/task_queues:83:21)"
     ]
    }
   ],
   "source": [
    "let promesa4 = Promise.reject(new Error(\"Promesa rechazada\"))"
   ]
  },
  {
   "cell_type": "code",
   "execution_count": 10,
   "id": "8ea29ec2",
   "metadata": {},
   "outputs": [
    {
     "data": {
      "text/plain": [
       "Promise { <pending> }"
      ]
     },
     "execution_count": 10,
     "metadata": {},
     "output_type": "execute_result"
    },
    {
     "name": "stdout",
     "output_type": "stream",
     "text": [
      "Falló al resolverse la promesa Error: Promesa rechazada\n",
      "    at evalmachine.<anonymous>:1:31\n",
      "    at Script.runInThisContext (node:vm:129:12)\n",
      "    at Object.runInThisContext (node:vm:307:38)\n",
      "    at run ([eval]:1020:15)\n",
      "    at onRunRequest ([eval]:864:18)\n",
      "    at onMessage ([eval]:828:13)\n",
      "    at process.emit (node:events:513:28)\n",
      "    at emit (node:internal/child_process:937:14)\n",
      "    at process.processTicksAndRejections (node:internal/process/task_queues:83:21)\n"
     ]
    },
    {
     "name": "stderr",
     "output_type": "stream",
     "text": [
      "(node:38060) PromiseRejectionHandledWarning: Promise rejection was handled asynchronously (rejection id: 1)\n",
      "(Use `node --trace-warnings ...` to show where the warning was created)\n"
     ]
    }
   ],
   "source": [
    "promesa4.then((promiseResult)=> {\n",
    "    console.log(\"Se ha resuelto la promesa\")\n",
    "}).catch((error)=>{\n",
    "    console.log(\"Falló al resolverse la promesa\", error)\n",
    "})"
   ]
  },
  {
   "cell_type": "code",
   "execution_count": null,
   "id": "ba04dc86",
   "metadata": {},
   "outputs": [],
   "source": []
  }
 ],
 "metadata": {
  "kernelspec": {
   "display_name": "JavaScript (Node.js)",
   "language": "javascript",
   "name": "javascript"
  },
  "language_info": {
   "file_extension": ".js",
   "mimetype": "application/javascript",
   "name": "javascript",
   "version": "18.16.0"
  }
 },
 "nbformat": 4,
 "nbformat_minor": 5
}
