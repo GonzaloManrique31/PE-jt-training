{
 "cells": [
  {
   "cell_type": "markdown",
   "id": "2935bdfc",
   "metadata": {},
   "source": [
    "Evaluacion\n",
    "Tendrán una hora para resolver lo siguiente.\n",
    "Ejercicio: \n",
    "Dado un arreglo de 5 urls, se deberá recorrer el mismo y extraer los datos que devuelvan dichas urls.\n"
   ]
  },
  {
   "cell_type": "markdown",
   "id": "447e7f9c",
   "metadata": {},
   "source": [
    "Con los datos devueltos por cada url, se debe crear un resultado extrayendo las siguientes propiedades: title, brand, images, url, id, groupId and price.\n",
    "En caso de error, se deberá rellenar la información de esa url con el error.\n",
    "\t\n",
    "El resultado debe tener el siguiente formato: \n"
   ]
  },
  {
   "cell_type": "code",
   "execution_count": null,
   "id": "3c3e2726",
   "metadata": {},
   "outputs": [],
   "source": [
    "/*\n",
    "{\n",
    "[**url**]: [\n",
    "   {}, // Variant 1\n",
    "   {}, // Variant 2, etc\n",
    "]\n",
    "}\n",
    "*/"
   ]
  },
  {
   "cell_type": "code",
   "execution_count": 9,
   "id": "3001699a",
   "metadata": {},
   "outputs": [],
   "source": [
    "const urls = [\n",
    "'https://goaxil.com/collections/ear-buds/products/gs-electronic.js',\n",
    "'https://therollingstonesshop.com/products/americana-tongue-unisex-black-t-shirt.js',\n",
    "'https://offhours.co/collections/shop-all/products/affogato-1.js',\n",
    "'https://www.danskin.com/products/calming-slip-on-sneaker.js',\n",
    "'https://www.url.fail/expected-error.js',\n",
    "];"
   ]
  },
  {
   "cell_type": "code",
   "execution_count": 29,
   "id": "18ccd411",
   "metadata": {},
   "outputs": [],
   "source": [
    "function dataUrls(url){\n",
    "    return fetch(url)\n",
    "    .then(response => response.json())\n",
    "    .then(data => ({\n",
    "        ///title, brand, images, url, id, groupId and price\n",
    "        'title': data.title,\n",
    "        'brand': data.brand,\n",
    "        'images': data.images,\n",
    "        'url': data.url,\n",
    "        'id': data.id,\n",
    "        'groupId': data.groupId,\n",
    "        'price': data.price\n",
    "    })).catch(error => ({ 'error': error.message }));\n",
    "}\n"
   ]
  },
  {
   "cell_type": "code",
   "execution_count": 33,
   "id": "2e9e1b1d",
   "metadata": {},
   "outputs": [],
   "source": [
    "function getUrls(urls){\n",
    "    let results = {}\n",
    "    \n",
    "    let fetchData = async () => {\n",
    "    for (const url of urls) {\n",
    "      try {\n",
    "        let extractedDataUrls = await dataUrls(url)\n",
    "        results[url] = [extractedDataUrls]\n",
    "      } catch (error) {\n",
    "        results[url] = [{ 'error': error.message }]\n",
    "      }\n",
    "    }\n",
    "    return results\n",
    "  }\n",
    "\n",
    "  return fetchData()\n",
    "}"
   ]
  },
  {
   "cell_type": "code",
   "execution_count": null,
   "id": "d9bde681",
   "metadata": {},
   "outputs": [],
   "source": []
  }
 ],
 "metadata": {
  "kernelspec": {
   "display_name": "JavaScript (Node.js)",
   "language": "javascript",
   "name": "javascript"
  },
  "language_info": {
   "file_extension": ".js",
   "mimetype": "application/javascript",
   "name": "javascript",
   "version": "18.16.0"
  }
 },
 "nbformat": 4,
 "nbformat_minor": 5
}
